{
 "cells": [
  {
   "cell_type": "code",
   "execution_count": null,
   "id": "d8702170-41b1-459d-a59d-0eb9e226c293",
   "metadata": {},
   "outputs": [],
   "source": [
    "import os\n",
    "import numpy as np\n",
    "import matplotlib.pyplot as plt\n",
    "from mpl_toolkits.mplot3d import Axes3D\n",
    "from scipy.interpolate import griddata\n",
    "from matplotlib import cm  \n",
    "from matplotlib.colors import Normalize\n",
    "import plotly.graph_objects as go\n",
    "import trimesh\n",
    "import pandas as pd"
   ]
  },
  {
   "cell_type": "markdown",
   "id": "c8229332-6b82-436e-ad94-755516f3f5f2",
   "metadata": {
    "jp-MarkdownHeadingCollapsed": true,
    "tags": []
   },
   "source": [
    "##### Functions"
   ]
  },
  {
   "cell_type": "code",
   "execution_count": null,
   "id": "d9077bec-7f18-474b-a3ab-9500ad847c6a",
   "metadata": {},
   "outputs": [],
   "source": [
    "def visualizeVelocityField(pos, sp, bbox = [[-512, 512], [-512, 512], [0, 1024]], slice_values = [0,0,1.25], epsilons = [5,5,1], grid_res = 512):\n",
    "    fig, axs = plt.subplots(1, 3, figsize=(18, 6))\n",
    "    axes_list = ['x', 'y', 'z']\n",
    "    labels = ['x', 'y', 'z']\n",
    "\n",
    "    for i, axis in enumerate(axes_list):\n",
    "        grid_values, x_min, x_max, y_min, y_max, remaining_axes = get_slice_grid(\n",
    "            pos, sp, axis, slice_values[i], epsilons[i], bbox, grid_res\n",
    "        )\n",
    "\n",
    "        if axis in ['x', 'y']:\n",
    "            grid_values = np.rot90(grid_values)\n",
    "\n",
    "        im = axs[i].imshow(\n",
    "            grid_values.T,\n",
    "            origin='lower',\n",
    "            extent=(x_min, x_max, y_min, y_max),\n",
    "            cmap='viridis',\n",
    "            aspect='equal'\n",
    "        )\n",
    "\n",
    "        xlabel = labels[remaining_axes[0]]\n",
    "        ylabel = labels[remaining_axes[1]]\n",
    "        axs[i].set_title(f'{axis.upper()} Slice @ {slice_values[i]}')\n",
    "        axs[i].set_xlabel(xlabel)\n",
    "        axs[i].set_ylabel(ylabel)\n",
    "        fig.colorbar(im, ax=axs[i], fraction=0.046, pad=0.04)\n",
    "\n",
    "    plt.tight_layout()\n",
    "    plt.show()"
   ]
  },
  {
   "cell_type": "code",
   "execution_count": null,
   "id": "80105396-0be7-416c-85e5-c7010e70b97b",
   "metadata": {},
   "outputs": [],
   "source": [
    "def visualizeVelocityinDomain(pos, sp, n_pts=5000):\n",
    "    fig = plt.figure(figsize=(10,10))\n",
    "    ax = fig.add_subplot(111, projection='3d')\n",
    "\n",
    "    rand_int = np.random.randint(0, pos.shape[0],n_pts)\n",
    "\n",
    "    magnitude = sp[rand_int]\n",
    "    norm = Normalize(vmin=np.min(magnitude), vmax=np.max(magnitude))\n",
    "    colors = cm.viridis(norm(magnitude))  # Choose any colormap\n",
    "\n",
    "    ax.quiver(x[rand_int,0], x[rand_int,1], x[rand_int,2], y[rand_int,0], y[rand_int,1], y[rand_int,2], colors=colors, length=10, normalize=True)\n",
    "    ax.set_axis_off()\n",
    "    plt.show()"
   ]
  },
  {
   "cell_type": "code",
   "execution_count": null,
   "id": "71a91b69-0314-499a-8f5a-c68bf9a6d533",
   "metadata": {},
   "outputs": [],
   "source": [
    "def plotSrfPressure(pos, surf, views = [(20, 0),(20, 90),(20, 180),(20, 270)], vmin=-1, vmax=1):\n",
    "    fig = plt.figure(figsize=(28, 7), constrained_layout=True)  \n",
    "    axes = []\n",
    "    for i in range(4):\n",
    "        ax = fig.add_subplot(1, 4, i+1, projection='3d')\n",
    "        sc = ax.scatter(\n",
    "            pos[:,0][surf==1], pos[:,1][surf==1], pos[:,2][surf==1],\n",
    "            c=pres[surf==1], s=10, vmin=vmin, vmax=vmax, cmap='viridis'\n",
    "        )\n",
    "        #ax.set_title(f'View {i+1}')\n",
    "        ax.set_axis_off()\n",
    "        elev, azim = views[i]\n",
    "        ax.view_init(elev=elev, azim=azim)\n",
    "        set_axes_equal(ax)\n",
    "        axes.append(ax)\n",
    "    cbar = fig.colorbar(sc, ax=axes, shrink=0.7, aspect=20, location='right')\n",
    "    cbar.set_label(\"Pressure\")\n",
    "    plt.show()"
   ]
  },
  {
   "cell_type": "code",
   "execution_count": null,
   "id": "f7a4e45e-444e-4cd0-bfd7-621013d84a5d",
   "metadata": {},
   "outputs": [],
   "source": [
    "def set_axes_equal(ax):\n",
    "\n",
    "    x_limits = ax.get_xlim3d()\n",
    "    y_limits = ax.get_ylim3d()\n",
    "    z_limits = ax.get_zlim3d()\n",
    "\n",
    "    x_range = abs(x_limits[1] - x_limits[0])\n",
    "    y_range = abs(y_limits[1] - y_limits[0])\n",
    "    z_range = abs(z_limits[1] - z_limits[0])\n",
    "\n",
    "    max_range = max([x_range, y_range, z_range])\n",
    "\n",
    "    mid_x = np.mean(x_limits)\n",
    "    mid_y = np.mean(y_limits)\n",
    "    mid_z = np.mean(z_limits)\n",
    "\n",
    "    ax.set_xlim3d([mid_x - max_range/2, mid_x + max_range/2])\n",
    "    ax.set_ylim3d([mid_y - max_range/2, mid_y + max_range/2])\n",
    "    ax.set_zlim3d([mid_z - max_range/2, mid_z + max_range/2])"
   ]
  },
  {
   "cell_type": "code",
   "execution_count": null,
   "id": "1f1f557e-8eaf-4e47-b247-e42aa75f5e58",
   "metadata": {},
   "outputs": [],
   "source": [
    "def get_slice_grid(pos, values, axis, slice_value, epsilon, bbox, grid_res):\n",
    "    axis_dict = {'x': 0, 'y': 1, 'z': 2}\n",
    "    idx = axis_dict[axis]\n",
    "\n",
    "    slice_mask = np.abs(pos[:, idx] - slice_value) <= epsilon\n",
    "\n",
    "    bbox_mask = (\n",
    "        (pos[:, 0] >= bbox[0][0]) & (pos[:, 0] <= bbox[0][1]) &\n",
    "        (pos[:, 1] >= bbox[1][0]) & (pos[:, 1] <= bbox[1][1]) &\n",
    "        (pos[:, 2] >= bbox[2][0]) & (pos[:, 2] <= bbox[2][1])\n",
    "    )\n",
    "\n",
    "    combined_mask = slice_mask & bbox_mask\n",
    "    pos_slice = pos[combined_mask]\n",
    "    values_slice = values[combined_mask]\n",
    "\n",
    "    remaining_axes = [i for i in range(3) if i != idx]\n",
    "    xy = pos_slice[:, remaining_axes]\n",
    "\n",
    "    x_min, y_min = xy.min(axis=0)\n",
    "    x_max, y_max = xy.max(axis=0)\n",
    "    xg = np.linspace(x_min, x_max, grid_res)\n",
    "    yg = np.linspace(y_min, y_max, grid_res)\n",
    "    grid_x, grid_y = np.meshgrid(xg, yg)\n",
    "\n",
    "    grid_values = griddata(xy, values_slice, (grid_x, grid_y), method='linear')\n",
    "    grid_values = np.nan_to_num(grid_values, nan=0.0)\n",
    "\n",
    "    return grid_values, x_min, x_max, y_min, y_max, remaining_axes"
   ]
  },
  {
   "cell_type": "code",
   "execution_count": null,
   "id": "252efd85-332d-4a12-99ff-50a81a82aefe",
   "metadata": {},
   "outputs": [],
   "source": [
    "def plotPointsMesh(mesh, points, values, bbox, cmin_v=None, cmax_v=None, flatshading: bool = False):\n",
    "\n",
    "    cmin = np.min(values) if cmin_v is None else cmin_v\n",
    "    cmax = np.max(values) if cmax_v is None else cmax_v\n",
    "\n",
    "    x, y, z = mesh.vertices.T\n",
    "    i, j, k = mesh.faces.T\n",
    "\n",
    "    mesh_plot = go.Mesh3d(\n",
    "        x=x,\n",
    "        y=z,\n",
    "        z=y,\n",
    "        i=i,\n",
    "        j=j,\n",
    "        k=k,\n",
    "        color='grey',\n",
    "        opacity=0.2,\n",
    "    )\n",
    "\n",
    "    scatter_plot = go.Scatter3d(\n",
    "        x=points[:, 0],\n",
    "        y=points[:, 2],\n",
    "        z=points[:, 1],\n",
    "        mode='markers',\n",
    "        marker=dict(\n",
    "            color=values,\n",
    "            colorscale='Plasma',\n",
    "            size=2,\n",
    "            opacity=0.8,\n",
    "            cmin=cmin,\n",
    "            cmax=cmax,\n",
    "            showscale=True\n",
    "        ),\n",
    "    )\n",
    "\n",
    "    fig = go.Figure([mesh_plot, scatter_plot])\n",
    "\n",
    "    fig.update_traces(\n",
    "        flatshading=flatshading,\n",
    "        lighting=dict(specular=1.0),\n",
    "        selector=dict(type=\"mesh3d\")\n",
    "    )\n",
    "\n",
    "    fig.update_scenes(\n",
    "        xaxis_title_text='X',\n",
    "        yaxis_title_text='Y',\n",
    "        zaxis_title_text='Z',\n",
    "        xaxis_showbackground=False,\n",
    "        yaxis_showbackground=False,\n",
    "        zaxis_showbackground=False,\n",
    "    )\n",
    "\n",
    "    fig.update_layout(\n",
    "        scene=dict(\n",
    "            xaxis=dict(visible=True, range=bbox[0]),\n",
    "            yaxis=dict(visible=True, range=bbox[2]),\n",
    "            zaxis=dict(visible=True, range=bbox[1]),\n",
    "            aspectmode='cube',  \n",
    "            xaxis_showspikes=False,\n",
    "            yaxis_showspikes=False,\n",
    "            zaxis_showspikes=False,\n",
    "        ),\n",
    "        margin=dict(r=5, l=5, b=5, t=5),\n",
    "        height=700,\n",
    "        showlegend=True\n",
    "    )\n",
    "\n",
    "    return fig\n"
   ]
  },
  {
   "cell_type": "code",
   "execution_count": null,
   "id": "d8090464-0818-4dbe-92ea-eb61ed14b0a3",
   "metadata": {},
   "outputs": [],
   "source": [
    "def visualize_mesh(vertices: np.ndarray, faces: np.ndarray, flatshading: bool = False, height=800, width=800, color=\"pink\"):\n",
    "    import plotly.graph_objects as go\n",
    "    import numpy as np\n",
    "\n",
    "    x, y, z = vertices.T\n",
    "    i, j, k = faces.T\n",
    "\n",
    "    # Compute bounding box for aspect ratio\n",
    "    range_x = x.max() - x.min()\n",
    "    range_y = y.max() - y.min()\n",
    "    range_z = z.max() - z.min()\n",
    "\n",
    "    max_range = max(range_x, range_y, range_z)\n",
    "    aspect_ratio = dict(\n",
    "        x=range_x / max_range,\n",
    "        y=range_z / max_range,  \n",
    "        z=range_y / max_range,\n",
    "    )\n",
    "\n",
    "    fig = go.Figure([\n",
    "        go.Mesh3d(\n",
    "            x=x,\n",
    "            y=z,  \n",
    "            z=y,\n",
    "            i=i,\n",
    "            j=j,\n",
    "            k=k,\n",
    "            color=color\n",
    "        )\n",
    "    ])\n",
    "\n",
    "    fig.update_traces(\n",
    "        flatshading=flatshading,\n",
    "        lighting=dict(specular=1.0),\n",
    "        selector=dict(type=\"mesh3d\")\n",
    "    )\n",
    "\n",
    "    fig.update_layout(\n",
    "        margin=dict(r=5, l=5, b=5, t=5),\n",
    "        scene=dict(\n",
    "            aspectmode=\"manual\",        \n",
    "            aspectratio=aspect_ratio,    \n",
    "            xaxis_showspikes=False,\n",
    "            yaxis_showspikes=False,\n",
    "            zaxis_showspikes=False,\n",
    "            xaxis=dict(visible=False),\n",
    "            yaxis=dict(visible=False),\n",
    "            zaxis=dict(visible=False),\n",
    "        ),\n",
    "        scene_camera=dict(eye=dict(x=0.5, y=4, z=1.5)),\n",
    "        width=width,\n",
    "        height=height\n",
    "    )\n",
    "\n",
    "    return fig\n"
   ]
  },
  {
   "cell_type": "code",
   "execution_count": null,
   "id": "88f7f63f-deae-4b84-b074-6a8e51facbaf",
   "metadata": {},
   "outputs": [],
   "source": [
    "def normalize_mesh(mesh, bbox):\n",
    "    norm_vertices = (mesh.vertices-bbox[:,0])/(bbox[:,1]-bbox[:,0])\n",
    "    norm_mesh = trimesh.Trimesh(vertices=norm_vertices, faces=mesh.faces)\n",
    "    return norm_mesh"
   ]
  },
  {
   "cell_type": "markdown",
   "id": "6a948e00-a949-499e-855c-ba541c83de17",
   "metadata": {},
   "source": [
    "##### Directory definition"
   ]
  },
  {
   "cell_type": "code",
   "execution_count": null,
   "id": "6bdee219-e7a6-4470-9914-8c17c70c4b2d",
   "metadata": {},
   "outputs": [],
   "source": [
    "cur_dir = ## Add your directory"
   ]
  },
  {
   "cell_type": "code",
   "execution_count": null,
   "id": "6fbff5f1-37f3-4e30-93b8-9ae276e2ce86",
   "metadata": {},
   "outputs": [],
   "source": [
    "b_name = 'building_345'\n",
    "sample_dir = os.path.join(cur_dir,'SampleGeometryforDataset')"
   ]
  },
  {
   "cell_type": "markdown",
   "id": "89a344c1-9c90-4bc9-b7bb-d9baf84e1b1b",
   "metadata": {},
   "source": [
    "##### Inspect Directory Contents"
   ]
  },
  {
   "cell_type": "code",
   "execution_count": null,
   "id": "736205b5-3f4a-4be6-a0af-a3832f1ae6e8",
   "metadata": {},
   "outputs": [],
   "source": [
    "raw_dir = os.path.join(sample_dir, 'raw')\n",
    "proc_dir = os.path.join(sample_dir, 'proc')"
   ]
  },
  {
   "cell_type": "code",
   "execution_count": null,
   "id": "ebe3e792-aa6b-4b1f-a6de-b11bf9426183",
   "metadata": {},
   "outputs": [],
   "source": [
    "print(os.listdir(raw_dir))"
   ]
  },
  {
   "cell_type": "code",
   "execution_count": null,
   "id": "70f9a181-ff6e-4b1c-b3fb-6499402532b3",
   "metadata": {},
   "outputs": [],
   "source": [
    "print('Directories for raw data:')\n",
    "for root, dirs, files in os.walk(raw_dir):\n",
    "    for dir in dirs:\n",
    "        print(dir)"
   ]
  },
  {
   "cell_type": "code",
   "execution_count": null,
   "id": "7559c465-a256-45c0-a4fb-fd4842d320ec",
   "metadata": {},
   "outputs": [],
   "source": [
    "print('All files for raw data:')\n",
    "for root, dirs, files in os.walk(raw_dir):\n",
    "    for file in files:\n",
    "        print(file)"
   ]
  },
  {
   "cell_type": "code",
   "execution_count": null,
   "id": "7925f3c9-3d03-431e-9e4d-3afe8d408c1a",
   "metadata": {},
   "outputs": [],
   "source": [
    "print('All directories for processed CFD data:')\n",
    "for root, dirs, files in os.walk(proc_dir):\n",
    "    for dir in dirs:\n",
    "        print(dir)"
   ]
  },
  {
   "cell_type": "code",
   "execution_count": null,
   "id": "790f468f-690d-4f29-b322-b0d3ab72b327",
   "metadata": {},
   "outputs": [],
   "source": [
    "print('All files for processed CFD data:')\n",
    "for root, dirs, files in os.walk(proc_dir):\n",
    "    for file in files:\n",
    "        parent_dir = os.path.basename(root)\n",
    "        print(f\"{parent_dir}/{file}\")"
   ]
  },
  {
   "cell_type": "code",
   "execution_count": null,
   "id": "f66bd8dd-41f0-495a-855b-94d982c4a4ea",
   "metadata": {},
   "outputs": [],
   "source": [
    "for root, dirs, files in os.walk(proc_dir):\n",
    "    for dir in dirs:\n",
    "        print(dir)"
   ]
  },
  {
   "cell_type": "markdown",
   "id": "3ef4ceb2-7b77-4e12-9350-001e69f13c17",
   "metadata": {},
   "source": [
    "##### Visualize Geometry"
   ]
  },
  {
   "cell_type": "code",
   "execution_count": null,
   "id": "673a2198-a5fa-4b6e-af55-6eee87bec038",
   "metadata": {},
   "outputs": [],
   "source": [
    "b_mesh = trimesh.load_mesh(os.path.join(raw_dir,'geometry','explicit',b_name+'.obj'), skip_materials=True)\n",
    "bbox = np.array([[-260.,  260.],[ -10.,  510.], [-260.,  260.]])"
   ]
  },
  {
   "cell_type": "code",
   "execution_count": null,
   "id": "dca29b66-76ff-46d9-a513-53269095ff16",
   "metadata": {},
   "outputs": [],
   "source": [
    "visualize_mesh(b_mesh.vertices, b_mesh.faces)"
   ]
  },
  {
   "cell_type": "markdown",
   "id": "4ccc7894-350c-426e-8c07-60bd2dedb509",
   "metadata": {},
   "source": [
    "###### Point cloud"
   ]
  },
  {
   "cell_type": "code",
   "execution_count": null,
   "id": "7c545740-c59c-43dc-84e5-c22496d0c0e5",
   "metadata": {},
   "outputs": [],
   "source": [
    "pc = np.load(os.path.join(raw_dir,'geometry','implicit','zeroSurface',b_name+'_zeroSurface.npz'))['alls']\n",
    "xyz = pc[:,0:3]\n",
    "nor = pc[:,3:]"
   ]
  },
  {
   "cell_type": "code",
   "execution_count": null,
   "id": "f409610d-64d7-41db-9657-26a04ce97056",
   "metadata": {},
   "outputs": [],
   "source": [
    "n_points = 5000\n",
    "rand_idx = np.random.randint(0,xyz.shape[0],n_points)\n",
    "norm_mesh = normalize_mesh(b_mesh, bbox)\n",
    "normals_unit = nor / np.linalg.norm(nor, axis=1, keepdims=True)\n",
    "theta = np.arctan2(normals_unit[:,1], normals_unit[:,0])\n",
    "values = (theta + np.pi) / (2 * np.pi)"
   ]
  },
  {
   "cell_type": "code",
   "execution_count": null,
   "id": "34277b5c-54ab-438a-b43b-826c4e0be62d",
   "metadata": {},
   "outputs": [],
   "source": [
    "plotPointsMesh(norm_mesh, xyz[rand_idx], values[rand_idx].flatten(), bbox=[[0,1],[0,1],[0,1]]).show()"
   ]
  },
  {
   "cell_type": "markdown",
   "id": "4fd49310-5bc2-488f-b882-9670c2f878eb",
   "metadata": {},
   "source": [
    "###### SDF"
   ]
  },
  {
   "cell_type": "code",
   "execution_count": null,
   "id": "4e7fcc64-4343-4662-81b7-e6132bceb65d",
   "metadata": {},
   "outputs": [],
   "source": [
    "samp_types = ['rejection','surface','uniform','combined/rej_100_sur_100_uni_100_zer_100','combined/rej_100_sur_100_uni_10_zer_100']\n",
    "sel_stype = 'rejection'\n",
    "sel_sID = samp_types.index(sel_stype)"
   ]
  },
  {
   "cell_type": "code",
   "execution_count": null,
   "id": "6c60240d-862b-46d4-acd2-56bc79dd2fd8",
   "metadata": {},
   "outputs": [],
   "source": [
    "p_type = 'pos'   # or 'zero' or 'neg'\n",
    "sdf_byT = np.load(os.path.join(raw_dir,'geometry','implicit',sel_stype,b_name+'_'+sel_stype+'.npz'))[p_type]"
   ]
  },
  {
   "cell_type": "code",
   "execution_count": null,
   "id": "3e196c14-2f79-4add-8959-7e86242f2d72",
   "metadata": {},
   "outputs": [],
   "source": [
    "xyz = sdf_byT[:,0:3]\n",
    "sdf_v = sdf_byT[:,3:]"
   ]
  },
  {
   "cell_type": "code",
   "execution_count": null,
   "id": "58ad612b-375e-4abe-80ff-33a8edd21c83",
   "metadata": {},
   "outputs": [],
   "source": [
    "n_points = 5000\n",
    "rand_idx = np.random.randint(0,xyz.shape[0],n_points)\n",
    "norm_mesh = normalize_mesh(b_mesh, bbox)\n",
    "values = sdf_v"
   ]
  },
  {
   "cell_type": "code",
   "execution_count": null,
   "id": "c6e31bd6-b439-49cd-8916-b84f2210dfc1",
   "metadata": {},
   "outputs": [],
   "source": [
    "plotPointsMesh(norm_mesh, xyz[rand_idx], values[rand_idx].flatten(), bbox=[[0,1],[0,1],[0,1]], cmin_v=0, cmax_v=0.1).show()"
   ]
  },
  {
   "cell_type": "markdown",
   "id": "6c70fa94-d44e-46fb-bf59-40765b2a248b",
   "metadata": {},
   "source": [
    "##### Visualize Performance"
   ]
  },
  {
   "cell_type": "markdown",
   "id": "ad6d2d85-ac3c-443c-9a1c-60b595d5ff83",
   "metadata": {},
   "source": [
    "###### CFD"
   ]
  },
  {
   "cell_type": "code",
   "execution_count": null,
   "id": "4c239956-c121-47c8-8535-aaf4a3847770",
   "metadata": {},
   "outputs": [],
   "source": [
    "av_windD = np.array([int(d.split('_')[2]) for d in os.listdir(proc_dir) if os.path.isdir(os.path.join(proc_dir, d))])\n",
    "av_windD"
   ]
  },
  {
   "cell_type": "code",
   "execution_count": null,
   "id": "a23e49e4-8bc7-4a86-b594-0f8c7af37c23",
   "metadata": {},
   "outputs": [],
   "source": [
    "sel_windD = 0"
   ]
  },
  {
   "cell_type": "code",
   "execution_count": null,
   "id": "0e595d2a-2ef1-47d3-b689-7580e5123c54",
   "metadata": {},
   "outputs": [],
   "source": [
    "path_srf = proc_dir\n",
    "path_byO = os.path.join(proc_dir, b_name + '_' + str(sel_windD))"
   ]
  },
  {
   "cell_type": "code",
   "execution_count": null,
   "id": "48f5f00e-c677-461d-8a0f-d76cf85b27b3",
   "metadata": {},
   "outputs": [],
   "source": [
    "y = np.load(os.path.join(path_byO,'y.npy'))\n",
    "vel = y[:,0:3]\n",
    "sp = np.linalg.norm(vel, axis=1)\n",
    "pres = y[:,4:]\n",
    "print('vel.shape',vel.shape,'sp.shape',sp.shape,'pres.shape',pres.shape)"
   ]
  },
  {
   "cell_type": "code",
   "execution_count": null,
   "id": "67cba859-f161-42bb-932c-efd3c45d0d2e",
   "metadata": {},
   "outputs": [],
   "source": [
    "x = np.load(os.path.join(path_srf,'x.npy'))\n",
    "pos = x[:,0:3]\n",
    "sdf = x[:,3:4]\n",
    "nor = x[:,4:]\n",
    "print('pos.shape',pos.shape,'sdf.shape',sdf.shape,'nor.shape',nor.shape)"
   ]
  },
  {
   "cell_type": "code",
   "execution_count": null,
   "id": "76b5f55f-8e38-4b31-8195-e9546272bf23",
   "metadata": {},
   "outputs": [],
   "source": [
    "surf = np.load(os.path.join(path_srf,'surf.npy'))\n",
    "print('surf.shape',surf.shape)"
   ]
  },
  {
   "cell_type": "code",
   "execution_count": null,
   "id": "8c5b45dc-48b8-46ad-884c-e0c265f498c2",
   "metadata": {},
   "outputs": [],
   "source": [
    "plotSrfPressure(pos, surf)"
   ]
  },
  {
   "cell_type": "code",
   "execution_count": null,
   "id": "dc7b67f2-9f84-4ec1-b1cc-5fb746d925b0",
   "metadata": {},
   "outputs": [],
   "source": [
    "visualizeVelocityField(pos, sp)"
   ]
  },
  {
   "cell_type": "code",
   "execution_count": null,
   "id": "320dd2e0-0299-4405-bee8-7dfcc01c1590",
   "metadata": {},
   "outputs": [],
   "source": [
    "visualizeVelocityinDomain(pos, sp, n_pts=20000)"
   ]
  },
  {
   "cell_type": "markdown",
   "id": "6601d68c-3d41-4f85-97a8-b6afdfec963d",
   "metadata": {},
   "source": [
    "###### SVF"
   ]
  },
  {
   "cell_type": "code",
   "execution_count": null,
   "id": "1bfba345-e8f6-46e9-8d2a-a83dd75f7513",
   "metadata": {},
   "outputs": [],
   "source": [
    "b_mesh = trimesh.load_mesh(os.path.join(raw_dir,'geometry','explicit',b_name+'.obj'), skip_materials=True)\n",
    "bbox = np.array([[-260.,  260.],[ -10.,  510.], [-260.,  260.]])\n",
    "srf_pts = pd.read_csv(os.path.join(raw_dir,'geometry','perf_grid',b_name+'_srfP_20.csv'), header=None).values.round(3)[:,[0,2,1]]\n",
    "srf_pts[:,2] = srf_pts[:,2]*-1\n",
    "grd_pts = pd.read_csv(os.path.join(raw_dir,'geometry','perf_grid','XYgrid_256_30.csv'), header=None).values.round(3)[:,[0,2,1]]\n",
    "grd_pts[:,1] = 1.5\n",
    "grd_SVF = np.load(os.path.join(raw_dir,'performance','svfbypat',b_name+'_XYgrid_256_30_15_svfbypat.npy'))\n",
    "srf_SVF = np.load(os.path.join(raw_dir,'performance','svfbypat',b_name+'_srf_20_svfbypat.npy'))\n",
    "print('srf_pts',srf_pts.shape,'grd_pts',grd_pts.shape,'grd_SVF',grd_SVF.shape,'srf_SVF',srf_SVF.shape)"
   ]
  },
  {
   "cell_type": "code",
   "execution_count": null,
   "id": "917d9c3f-fd1a-4ead-a654-f48888609e1e",
   "metadata": {},
   "outputs": [],
   "source": [
    "plotPointsMesh(b_mesh, srf_pts, np.sum(srf_SVF,axis=1)/577, bbox, cmin_v = 0, cmax_v = 1).show()"
   ]
  },
  {
   "cell_type": "code",
   "execution_count": null,
   "id": "abdf6074-4c96-4c28-9846-1175ad6c051e",
   "metadata": {},
   "outputs": [],
   "source": [
    "plotPointsMesh(b_mesh, grd_pts, np.sum(grd_SVF,axis=1)/577, bbox, cmin_v = 0, cmax_v = 1).show()"
   ]
  },
  {
   "cell_type": "code",
   "execution_count": null,
   "id": "d6193941-4368-4380-ad32-bfcf50fafc9a",
   "metadata": {},
   "outputs": [],
   "source": [
    "# Fir different sky patches\n",
    "sky_pat = 6\n",
    "plotPointsMesh(b_mesh, grd_pts, grd_SVF[:,sky_pat], bbox, cmin_v = 0, cmax_v = 1).show()"
   ]
  },
  {
   "cell_type": "code",
   "execution_count": null,
   "id": "08aa1adf-4332-4cc6-af77-84392d07f355",
   "metadata": {},
   "outputs": [],
   "source": [
    "# Fir different sky patches\n",
    "sky_pat = 200\n",
    "plotPointsMesh(b_mesh, grd_pts, grd_SVF[:,sky_pat], bbox, cmin_v = 0, cmax_v = 1).show()"
   ]
  }
 ],
 "metadata": {
  "kernelspec": {
   "display_name": "Python 3 (ipykernel)",
   "language": "python",
   "name": "python3"
  },
  "language_info": {
   "codemirror_mode": {
    "name": "ipython",
    "version": 3
   },
   "file_extension": ".py",
   "mimetype": "text/x-python",
   "name": "python",
   "nbconvert_exporter": "python",
   "pygments_lexer": "ipython3",
   "version": "3.9.18"
  }
 },
 "nbformat": 4,
 "nbformat_minor": 5
}
